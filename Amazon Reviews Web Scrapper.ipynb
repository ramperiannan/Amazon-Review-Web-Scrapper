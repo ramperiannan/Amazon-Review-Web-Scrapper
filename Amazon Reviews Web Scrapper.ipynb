{
 "cells": [
  {
   "cell_type": "code",
   "execution_count": 193,
   "metadata": {},
   "outputs": [],
   "source": [
    "from bs4 import BeautifulSoup as bs\n",
    "import requests\n",
    "import pandas as pd"
   ]
  },
  {
   "cell_type": "code",
   "execution_count": 194,
   "metadata": {},
   "outputs": [
    {
     "data": {
      "text/plain": [
       "<Response [200]>"
      ]
     },
     "execution_count": 194,
     "metadata": {},
     "output_type": "execute_result"
    }
   ],
   "source": [
    "url=\"https://www.amazon.in/Hands-Machine-Learning-Scikit-Learn-TensorFlow/product-reviews/1491962291/ref=cm_cr_dp_d_show_all_btm?ie=UTF8&reviewerType=all_reviews\"\n",
    "page=requests.get(url)\n",
    "page"
   ]
  },
  {
   "cell_type": "code",
   "execution_count": 195,
   "metadata": {},
   "outputs": [],
   "source": [
    "soup=bs(page.content,'html.parser')"
   ]
  },
  {
   "cell_type": "code",
   "execution_count": 196,
   "metadata": {},
   "outputs": [],
   "source": [
    "#print(soup.prettify())#To see the html content"
   ]
  },
  {
   "cell_type": "code",
   "execution_count": 197,
   "metadata": {},
   "outputs": [],
   "source": [
    "names=soup.findAll(\"span\",class_=\"a-profile-name\")"
   ]
  },
  {
   "cell_type": "code",
   "execution_count": 199,
   "metadata": {},
   "outputs": [
    {
     "data": {
      "text/plain": [
       "<span class=\"a-profile-name\">Anurag</span>"
      ]
     },
     "execution_count": 199,
     "metadata": {},
     "output_type": "execute_result"
    }
   ],
   "source": [
    "names\n",
    "#using pop to remove the first 2 repeating values\n",
    "names.pop(0)"
   ]
  },
  {
   "cell_type": "code",
   "execution_count": 200,
   "metadata": {},
   "outputs": [
    {
     "data": {
      "text/plain": [
       "10"
      ]
     },
     "execution_count": 200,
     "metadata": {},
     "output_type": "execute_result"
    }
   ],
   "source": [
    "len(names)"
   ]
  },
  {
   "cell_type": "code",
   "execution_count": 201,
   "metadata": {},
   "outputs": [],
   "source": [
    "customer_name=[]\n",
    "for i in range(len(names)):\n",
    "    customer_name.append(names[i].get_text())\n"
   ]
  },
  {
   "cell_type": "code",
   "execution_count": 202,
   "metadata": {},
   "outputs": [
    {
     "data": {
      "text/plain": [
       "['Aditya Rao',\n",
       " 'Anurag',\n",
       " 'Jayanth',\n",
       " 'Kush Sharma',\n",
       " 'Captain Miffles',\n",
       " 'Prashant',\n",
       " 'Amazon Customer',\n",
       " 'John',\n",
       " 'Aakash Manjrekar',\n",
       " 'Priyansh']"
      ]
     },
     "execution_count": 202,
     "metadata": {},
     "output_type": "execute_result"
    }
   ],
   "source": [
    "customer_name"
   ]
  },
  {
   "cell_type": "code",
   "execution_count": 203,
   "metadata": {},
   "outputs": [],
   "source": [
    "titles=soup.findAll(\"a\",class_=\"a-size-base a-link-normal review-title a-color-base review-title-content a-text-bold\")"
   ]
  },
  {
   "cell_type": "code",
   "execution_count": 204,
   "metadata": {},
   "outputs": [],
   "source": [
    "review_title=[]\n",
    "for i in range(len(titles)):\n",
    "    review_title.append(titles[i].get_text())"
   ]
  },
  {
   "cell_type": "code",
   "execution_count": 205,
   "metadata": {},
   "outputs": [
    {
     "data": {
      "text/plain": [
       "['\\nA perfect book for ML Scikit and Tensorflow\\n',\n",
       " '\\nOkay, okay types\\n',\n",
       " '\\nGreatly written. Quite hands on and not intimidating\\n',\n",
       " '\\nPoor printing\\n',\n",
       " '\\nGreat book for practical ML frameworks in Python\\n',\n",
       " '\\nBasics of Python, Refression basics\\n',\n",
       " '\\nBlack and white xerox quality. Worthless for 3309\\n',\n",
       " '\\nFormula printing mistakes.\\n',\n",
       " '\\nBook condition very poor\\n',\n",
       " '\\nThe best book for getting started!\\n']"
      ]
     },
     "execution_count": 205,
     "metadata": {},
     "output_type": "execute_result"
    }
   ],
   "source": [
    "review_title"
   ]
  },
  {
   "cell_type": "code",
   "execution_count": 206,
   "metadata": {},
   "outputs": [],
   "source": [
    "review_title[:]=[title.lstrip('\\n') for title in review_title]#to remove /n\n",
    "review_title[:]=[title.rstrip('\\n') for title in review_title]"
   ]
  },
  {
   "cell_type": "code",
   "execution_count": 207,
   "metadata": {},
   "outputs": [
    {
     "data": {
      "text/plain": [
       "['A perfect book for ML Scikit and Tensorflow',\n",
       " 'Okay, okay types',\n",
       " 'Greatly written. Quite hands on and not intimidating',\n",
       " 'Poor printing',\n",
       " 'Great book for practical ML frameworks in Python',\n",
       " 'Basics of Python, Refression basics',\n",
       " 'Black and white xerox quality. Worthless for 3309',\n",
       " 'Formula printing mistakes.',\n",
       " 'Book condition very poor',\n",
       " 'The best book for getting started!']"
      ]
     },
     "execution_count": 207,
     "metadata": {},
     "output_type": "execute_result"
    }
   ],
   "source": [
    "review_title"
   ]
  },
  {
   "cell_type": "code",
   "execution_count": 208,
   "metadata": {},
   "outputs": [],
   "source": [
    "rating=names=soup.findAll(\"i\",class_=\"review-rating\")"
   ]
  },
  {
   "cell_type": "code",
   "execution_count": 210,
   "metadata": {
    "scrolled": true
   },
   "outputs": [
    {
     "data": {
      "text/plain": [
       "<i class=\"a-icon a-icon-star a-star-3 review-rating\" data-hook=\"review-star-rating-view-point\"><span class=\"a-icon-alt\">3.0 out of 5 stars</span></i>"
      ]
     },
     "execution_count": 210,
     "metadata": {},
     "output_type": "execute_result"
    }
   ],
   "source": [
    "rating.pop(0)\n",
    "#using pop to remove the first two duplicate values"
   ]
  },
  {
   "cell_type": "code",
   "execution_count": 211,
   "metadata": {},
   "outputs": [
    {
     "data": {
      "text/plain": [
       "10"
      ]
     },
     "execution_count": 211,
     "metadata": {},
     "output_type": "execute_result"
    }
   ],
   "source": [
    "len(rating)\n"
   ]
  },
  {
   "cell_type": "code",
   "execution_count": 212,
   "metadata": {},
   "outputs": [],
   "source": [
    "ratings=[]\n",
    "for i in range(len(rating)):\n",
    "    ratings.append(rating[i].get_text())"
   ]
  },
  {
   "cell_type": "code",
   "execution_count": 181,
   "metadata": {},
   "outputs": [
    {
     "data": {
      "text/plain": [
       "['5.0 out of 5 stars',\n",
       " '3.0 out of 5 stars',\n",
       " '5.0 out of 5 stars',\n",
       " '1.0 out of 5 stars',\n",
       " '4.0 out of 5 stars',\n",
       " '5.0 out of 5 stars',\n",
       " '1.0 out of 5 stars',\n",
       " '1.0 out of 5 stars',\n",
       " '3.0 out of 5 stars',\n",
       " '5.0 out of 5 stars']"
      ]
     },
     "execution_count": 181,
     "metadata": {},
     "output_type": "execute_result"
    }
   ],
   "source": [
    "ratings"
   ]
  },
  {
   "cell_type": "code",
   "execution_count": 213,
   "metadata": {},
   "outputs": [],
   "source": [
    "r_content=soup.findAll(\"span\",{\"data-hook\":\"review-body\"})# using dictionary to search and get the content"
   ]
  },
  {
   "cell_type": "code",
   "execution_count": 214,
   "metadata": {},
   "outputs": [
    {
     "data": {
      "text/plain": [
       "[<span class=\"a-size-base review-text review-text-content\" data-hook=\"review-body\"><a class=\"a-link-normal\" data-hook=\"product-link-linked\" href=\"/Hands-On-Machine-Learning-with-Scikit-Learn-and-TensorFlow-Concepts-Tools-and-Techniques-to-Build-Intelligent-Systems/dp/9352135210\">Hands-On Machine Learning with Scikit-Learn and TensorFlow: Concepts, Tools, and Techniques to Build Intelligent Systems</a>\n",
       " <span>\n",
       " <br/><br/>This is one of the best books you can get for someone who is just starting out in ML, in its libraries such as Tensorflow, It covers the basics very good. As a book, it is 5/5<br/>Once you are done with this book, the ideal next step is the \"Deep Learning Book By Ian Goodfellow\".<br/><br/>Sadly my copy didn't look so good, If it were an under 300 book, I would have let it slide but when the book costs 1450 (Which it is totally worth it) I expected a much better copy.\n",
       " </span>\n",
       " </span>,\n",
       " <span class=\"a-size-base review-text review-text-content\" data-hook=\"review-body\">\n",
       " <span>\n",
       "   Example/code presented in the book is not compatible with latest release of the tensorflow. Reader will have to make the program work after lot of debugging and searching on net, hence can be sometimes very frustrating. Started with few chapters, but had to leave it in the middle because of this issue. But serves as a good starting point in terms of theoretical aspects on neural networks (cnn, rnn).<br/><br/>At the same time I was unable to find a book dedicated on deep learning with tensorflow. Not a bad book at all, but incompatible with latest version of tensorflow. Can be used as a reference for learning/ understanding cnns, rnn etc.\n",
       " </span>\n",
       " </span>,\n",
       " <span class=\"a-size-base review-text review-text-content\" data-hook=\"review-body\">\n",
       " <span>\n",
       "   Quick glance shows that subject covered is done with just the right amount of focus on basics vs hands-on ML.<br/><br/>Quite simply written and not intimidating at all. For those looking for a very deep look into the basics and the math background of the concepts should probably check out Duke University’s machine learning mastery with excel - which is a rigorous crash course on the very basics of the math.<br/><br/>The problem with book quality on amazon is hit or miss. Paper that it’s published on is slightly cheap quality.<br/>Looks like also someone has used the book. That may be a concern to some people.\n",
       " </span>\n",
       " </span>,\n",
       " <span class=\"a-size-base review-text review-text-content\" data-hook=\"review-body\">\n",
       " <span>\n",
       "   Poor publication for Indians. Graphs are printed in Black and White making it quire hard to make observations. Packing was poor as well. Not worthy of Rs. 1500. Try to get the original one and one which is published by SPD. Really very disappointed.\n",
       " </span>\n",
       " </span>,\n",
       " <span class=\"a-size-base review-text review-text-content\" data-hook=\"review-body\">\n",
       " <span>\n",
       "   This book is probably the best introduction for Machine Learning frameworks for some looking to apply it in their daily work or just as a hobby. Its not an academic textbook at all as focus on proofs and theory is left for exploration. Its  mostly a guided tour with important things to remember about each ML algorithm.<br/><br/>The addition of exercises at the end of each chapter is a welcome feature as it really tests your understanding. If you are familiar with Python then this is probably the first ML book to learn. Good luck!<br/><br/>NOTE ON INDIAN EDITION: The printing quality is abysmal and really disappointing. Color printing would have been very useful as most of the charts are comparisons and would help in visualizing tuning of hyperparameters etc. Get the US edition if you can spare the change.\n",
       " </span>\n",
       " </span>,\n",
       " <span class=\"a-size-base review-text review-text-content\" data-hook=\"review-body\">\n",
       " <span>\n",
       "   Tha book is all what one needs to be confident to pursue analytics journey.Having spent years in the analytics industry, I find the book good for a person with some elementary know how of Machine learning like regression, Decision Trees.Part 1 of the book is good for beginners to make their knowledge concrete on the basiscs of Machine learning algos.Part 2 is more advanced stuff and talks about Neural nets ( different types) and dee learning.One gets to do analysis on datasets with codes , to get the right feel of an analytics project.A good book for anyone looking to get ahead..\n",
       " </span>\n",
       " </span>,\n",
       " <span class=\"a-size-base review-text review-text-content\" data-hook=\"review-body\">\n",
       " <span>\n",
       "   This is a black and white print. Looks very much like a photocopy/xerox. The images shown on the website does not match what I received - different barcode at the back of the book. On the O'REILLY website, this ISBN number is a color print. I bought this assuming it is the original color print imported from O'REILLY, USA. (To really appreciate the graphics,charts,graphs,plots, etc, you need to view in color). But this book does not look like original. Paying Rs. 3309 is worthless for this black and white print. You get SPD publication of the same book for Indian continent for Rs 1400.\n",
       " </span>\n",
       " </span>,\n",
       " <span class=\"a-size-base review-text review-text-content\" data-hook=\"review-body\">\n",
       " <span>\n",
       "   The book has printing mistakes where basic linear equation was printed wrongly.. Also print is below the standards with black and white graphical images. Very dangerous to buy for ML enthusiasts.. Better buy the orginal copy..in the image I uploaded the theta 0 is not used in the formula..\n",
       " </span>\n",
       " </span>,\n",
       " <span class=\"a-size-base review-text review-text-content\" data-hook=\"review-body\">\n",
       " <span>\n",
       "   Got this book delivered today.<br/>The book's outer condition was very poor, it was already torn and damaged at the corners. Also had wrinkles on cover and was bent...it feels like myabe it was either used before or not maintained/delivered properly.<br/>The page quality however was nice and the printed text and images were readable.<br/>Overall not satisfied with the quality of the book as I paid 1475 rupees, so a customer expects at least a decent product for such a high priced book.<br/>Will return this as soon as possible.\n",
       " </span>\n",
       " </span>,\n",
       " <span class=\"a-size-base review-text review-text-content\" data-hook=\"review-body\">\n",
       " <span>\n",
       "   The book is really great for beginners! Although if you want go really into details of ML's maths then you might wanna skip it otherwise it's a really good book for practical use!\n",
       " </span>\n",
       " </span>]"
      ]
     },
     "execution_count": 214,
     "metadata": {},
     "output_type": "execute_result"
    }
   ],
   "source": [
    "r_content"
   ]
  },
  {
   "cell_type": "code",
   "execution_count": 106,
   "metadata": {},
   "outputs": [],
   "source": [
    "#c_content=soup.findAll(\"div\",class_=\"a-row a-spacing-small review-data\")\n",
    "#c_content\n",
    "#same can be used to get the review content"
   ]
  },
  {
   "cell_type": "code",
   "execution_count": 215,
   "metadata": {},
   "outputs": [],
   "source": [
    "content=[]\n",
    "for i in range(len(r_content)):\n",
    "    content.append(r_content[i].get_text())"
   ]
  },
  {
   "cell_type": "code",
   "execution_count": 216,
   "metadata": {},
   "outputs": [],
   "source": [
    "content[:]=[contents.lstrip('\\n') for contents in content]#to remove /n in leftside"
   ]
  },
  {
   "cell_type": "code",
   "execution_count": 217,
   "metadata": {},
   "outputs": [],
   "source": [
    "content[:]=[contents.rstrip('\\n') for contents in content]#to remove /n in rightside"
   ]
  },
  {
   "cell_type": "code",
   "execution_count": 155,
   "metadata": {
    "collapsed": true
   },
   "outputs": [
    {
     "data": {
      "text/plain": [
       "['Hands-On Machine Learning with Scikit-Learn and TensorFlow: Concepts, Tools, and Techniques to Build Intelligent Systems\\n\\nThis is one of the best books you can get for someone who is just starting out in ML, in its libraries such as Tensorflow, It covers the basics very good. As a book, it is 5/5Once you are done with this book, the ideal next step is the \"Deep Learning Book By Ian Goodfellow\".Sadly my copy didn\\'t look so good, If it were an under 300 book, I would have let it slide but when the book costs 1450 (Which it is totally worth it) I expected a much better copy.',\n",
       " '  Example/code presented in the book is not compatible with latest release of the tensorflow. Reader will have to make the program work after lot of debugging and searching on net, hence can be sometimes very frustrating. Started with few chapters, but had to leave it in the middle because of this issue. But serves as a good starting point in terms of theoretical aspects on neural networks (cnn, rnn).At the same time I was unable to find a book dedicated on deep learning with tensorflow. Not a bad book at all, but incompatible with latest version of tensorflow. Can be used as a reference for learning/ understanding cnns, rnn etc.',\n",
       " '  Quick glance shows that subject covered is done with just the right amount of focus on basics vs hands-on ML.Quite simply written and not intimidating at all. For those looking for a very deep look into the basics and the math background of the concepts should probably check out Duke University’s machine learning mastery with excel - which is a rigorous crash course on the very basics of the math.The problem with book quality on amazon is hit or miss. Paper that it’s published on is slightly cheap quality.Looks like also someone has used the book. That may be a concern to some people.',\n",
       " '  Poor publication for Indians. Graphs are printed in Black and White making it quire hard to make observations. Packing was poor as well. Not worthy of Rs. 1500. Try to get the original one and one which is published by SPD. Really very disappointed.',\n",
       " '  This book is probably the best introduction for Machine Learning frameworks for some looking to apply it in their daily work or just as a hobby. Its not an academic textbook at all as focus on proofs and theory is left for exploration. Its  mostly a guided tour with important things to remember about each ML algorithm.The addition of exercises at the end of each chapter is a welcome feature as it really tests your understanding. If you are familiar with Python then this is probably the first ML book to learn. Good luck!NOTE ON INDIAN EDITION: The printing quality is abysmal and really disappointing. Color printing would have been very useful as most of the charts are comparisons and would help in visualizing tuning of hyperparameters etc. Get the US edition if you can spare the change.',\n",
       " '  Tha book is all what one needs to be confident to pursue analytics journey.Having spent years in the analytics industry, I find the book good for a person with some elementary know how of Machine learning like regression, Decision Trees.Part 1 of the book is good for beginners to make their knowledge concrete on the basiscs of Machine learning algos.Part 2 is more advanced stuff and talks about Neural nets ( different types) and dee learning.One gets to do analysis on datasets with codes , to get the right feel of an analytics project.A good book for anyone looking to get ahead..',\n",
       " \"  This is a black and white print. Looks very much like a photocopy/xerox. The images shown on the website does not match what I received - different barcode at the back of the book. On the O'REILLY website, this ISBN number is a color print. I bought this assuming it is the original color print imported from O'REILLY, USA. (To really appreciate the graphics,charts,graphs,plots, etc, you need to view in color). But this book does not look like original. Paying Rs. 3309 is worthless for this black and white print. You get SPD publication of the same book for Indian continent for Rs 1400.\",\n",
       " '  The book has printing mistakes where basic linear equation was printed wrongly.. Also print is below the standards with black and white graphical images. Very dangerous to buy for ML enthusiasts.. Better buy the orginal copy..in the image I uploaded the theta 0 is not used in the formula..',\n",
       " \"  Got this book delivered today.The book's outer condition was very poor, it was already torn and damaged at the corners. Also had wrinkles on cover and was bent...it feels like myabe it was either used before or not maintained/delivered properly.The page quality however was nice and the printed text and images were readable.Overall not satisfied with the quality of the book as I paid 1475 rupees, so a customer expects at least a decent product for such a high priced book.Will return this as soon as possible.\",\n",
       " \"  The book is really great for beginners! Although if you want go really into details of ML's maths then you might wanna skip it otherwise it's a really good book for practical use!\"]"
      ]
     },
     "execution_count": 155,
     "metadata": {},
     "output_type": "execute_result"
    }
   ],
   "source": [
    "#content"
   ]
  },
  {
   "cell_type": "code",
   "execution_count": 218,
   "metadata": {},
   "outputs": [
    {
     "data": {
      "text/plain": [
       "10"
      ]
     },
     "execution_count": 218,
     "metadata": {},
     "output_type": "execute_result"
    }
   ],
   "source": [
    "len(content)"
   ]
  },
  {
   "cell_type": "code",
   "execution_count": 219,
   "metadata": {},
   "outputs": [],
   "source": [
    "df=pd.DataFrame()"
   ]
  },
  {
   "cell_type": "code",
   "execution_count": 220,
   "metadata": {},
   "outputs": [],
   "source": [
    "df[\"customer_name\"]=customer_name\n",
    "df[\"title\"]=review_title\n",
    "df[\"rating\"]=ratings\n",
    "df[\"review_content\"]=content"
   ]
  },
  {
   "cell_type": "code",
   "execution_count": 221,
   "metadata": {},
   "outputs": [
    {
     "data": {
      "text/html": [
       "<div>\n",
       "<style scoped>\n",
       "    .dataframe tbody tr th:only-of-type {\n",
       "        vertical-align: middle;\n",
       "    }\n",
       "\n",
       "    .dataframe tbody tr th {\n",
       "        vertical-align: top;\n",
       "    }\n",
       "\n",
       "    .dataframe thead th {\n",
       "        text-align: right;\n",
       "    }\n",
       "</style>\n",
       "<table border=\"1\" class=\"dataframe\">\n",
       "  <thead>\n",
       "    <tr style=\"text-align: right;\">\n",
       "      <th></th>\n",
       "      <th>customer_name</th>\n",
       "      <th>title</th>\n",
       "      <th>rating</th>\n",
       "      <th>review_content</th>\n",
       "    </tr>\n",
       "  </thead>\n",
       "  <tbody>\n",
       "    <tr>\n",
       "      <th>0</th>\n",
       "      <td>Aditya Rao</td>\n",
       "      <td>A perfect book for ML Scikit and Tensorflow</td>\n",
       "      <td>5.0 out of 5 stars</td>\n",
       "      <td>Hands-On Machine Learning with Scikit-Learn an...</td>\n",
       "    </tr>\n",
       "    <tr>\n",
       "      <th>1</th>\n",
       "      <td>Anurag</td>\n",
       "      <td>Okay, okay types</td>\n",
       "      <td>3.0 out of 5 stars</td>\n",
       "      <td>Example/code presented in the book is not co...</td>\n",
       "    </tr>\n",
       "    <tr>\n",
       "      <th>2</th>\n",
       "      <td>Jayanth</td>\n",
       "      <td>Greatly written. Quite hands on and not intimi...</td>\n",
       "      <td>5.0 out of 5 stars</td>\n",
       "      <td>Quick glance shows that subject covered is d...</td>\n",
       "    </tr>\n",
       "    <tr>\n",
       "      <th>3</th>\n",
       "      <td>Kush Sharma</td>\n",
       "      <td>Poor printing</td>\n",
       "      <td>1.0 out of 5 stars</td>\n",
       "      <td>Poor publication for Indians. Graphs are pri...</td>\n",
       "    </tr>\n",
       "    <tr>\n",
       "      <th>4</th>\n",
       "      <td>Captain Miffles</td>\n",
       "      <td>Great book for practical ML frameworks in Python</td>\n",
       "      <td>4.0 out of 5 stars</td>\n",
       "      <td>This book is probably the best introduction ...</td>\n",
       "    </tr>\n",
       "    <tr>\n",
       "      <th>5</th>\n",
       "      <td>Prashant</td>\n",
       "      <td>Basics of Python, Refression basics</td>\n",
       "      <td>5.0 out of 5 stars</td>\n",
       "      <td>Tha book is all what one needs to be confide...</td>\n",
       "    </tr>\n",
       "    <tr>\n",
       "      <th>6</th>\n",
       "      <td>Amazon Customer</td>\n",
       "      <td>Black and white xerox quality. Worthless for 3309</td>\n",
       "      <td>1.0 out of 5 stars</td>\n",
       "      <td>This is a black and white print. Looks very ...</td>\n",
       "    </tr>\n",
       "    <tr>\n",
       "      <th>7</th>\n",
       "      <td>John</td>\n",
       "      <td>Formula printing mistakes.</td>\n",
       "      <td>1.0 out of 5 stars</td>\n",
       "      <td>The book has printing mistakes where basic l...</td>\n",
       "    </tr>\n",
       "    <tr>\n",
       "      <th>8</th>\n",
       "      <td>Aakash Manjrekar</td>\n",
       "      <td>Book condition very poor</td>\n",
       "      <td>3.0 out of 5 stars</td>\n",
       "      <td>Got this book delivered today.The book's out...</td>\n",
       "    </tr>\n",
       "    <tr>\n",
       "      <th>9</th>\n",
       "      <td>Priyansh</td>\n",
       "      <td>The best book for getting started!</td>\n",
       "      <td>5.0 out of 5 stars</td>\n",
       "      <td>The book is really great for beginners! Alth...</td>\n",
       "    </tr>\n",
       "  </tbody>\n",
       "</table>\n",
       "</div>"
      ],
      "text/plain": [
       "      customer_name                                              title  \\\n",
       "0        Aditya Rao        A perfect book for ML Scikit and Tensorflow   \n",
       "1            Anurag                                   Okay, okay types   \n",
       "2           Jayanth  Greatly written. Quite hands on and not intimi...   \n",
       "3       Kush Sharma                                      Poor printing   \n",
       "4   Captain Miffles   Great book for practical ML frameworks in Python   \n",
       "5          Prashant                Basics of Python, Refression basics   \n",
       "6   Amazon Customer  Black and white xerox quality. Worthless for 3309   \n",
       "7              John                         Formula printing mistakes.   \n",
       "8  Aakash Manjrekar                           Book condition very poor   \n",
       "9          Priyansh                 The best book for getting started!   \n",
       "\n",
       "               rating                                     review_content  \n",
       "0  5.0 out of 5 stars  Hands-On Machine Learning with Scikit-Learn an...  \n",
       "1  3.0 out of 5 stars    Example/code presented in the book is not co...  \n",
       "2  5.0 out of 5 stars    Quick glance shows that subject covered is d...  \n",
       "3  1.0 out of 5 stars    Poor publication for Indians. Graphs are pri...  \n",
       "4  4.0 out of 5 stars    This book is probably the best introduction ...  \n",
       "5  5.0 out of 5 stars    Tha book is all what one needs to be confide...  \n",
       "6  1.0 out of 5 stars    This is a black and white print. Looks very ...  \n",
       "7  1.0 out of 5 stars    The book has printing mistakes where basic l...  \n",
       "8  3.0 out of 5 stars    Got this book delivered today.The book's out...  \n",
       "9  5.0 out of 5 stars    The book is really great for beginners! Alth...  "
      ]
     },
     "execution_count": 221,
     "metadata": {},
     "output_type": "execute_result"
    }
   ],
   "source": [
    "df"
   ]
  },
  {
   "cell_type": "code",
   "execution_count": 191,
   "metadata": {},
   "outputs": [],
   "source": [
    "df.to_csv(\"data.csv\",index=False)"
   ]
  },
  {
   "cell_type": "code",
   "execution_count": null,
   "metadata": {},
   "outputs": [],
   "source": []
  }
 ],
 "metadata": {
  "kernelspec": {
   "display_name": "Python 3",
   "language": "python",
   "name": "python3"
  },
  "language_info": {
   "codemirror_mode": {
    "name": "ipython",
    "version": 3
   },
   "file_extension": ".py",
   "mimetype": "text/x-python",
   "name": "python",
   "nbconvert_exporter": "python",
   "pygments_lexer": "ipython3",
   "version": "3.7.7"
  }
 },
 "nbformat": 4,
 "nbformat_minor": 4
}
